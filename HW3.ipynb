{
 "cells": [
  {
   "cell_type": "markdown",
   "id": "55baf91c",
   "metadata": {},
   "source": [
    "   __.. И тогда этот студент _кинулся собакой в доску___\n",
    "   \n",
    "   The aim of this project is to study russian verbs of a certain kind. The most popular of these verbs is _броситься_. So what is so special about it? It seems to be rather ambiguous: compare phrases _броситься в ноги_ and _броситься в воду_ or _броситься в воду_ and _броситься бежать_ -- you can easily see that in the first pair verb either is or is not a metaphor and therefore either doesn't mean an actual movement or does. In the second pair while there is movement in both phrases, in case of _броситься бежать_ it is actually the verb _бежать_ that references to the movement while _броситься_ is grammaticalized as an inchoative. My idea is to compare different contexts of this verb (and the others alike) and look for paterns. Other verbs of the same kind are: _кинуться_, _метнуться_, _ринуться_ and _рвануться_."
   ]
  },
  {
   "cell_type": "markdown",
   "id": "85204489",
   "metadata": {},
   "source": [
    "   First of all we need to establish all types of contexts of our set of verbs. Let's make a database! "
   ]
  },
  {
   "cell_type": "code",
   "execution_count": 1,
   "id": "4251a3a6",
   "metadata": {},
   "outputs": [],
   "source": [
    "import pandas as pd\n",
    "import csv\n",
    "import sqlite3\n",
    "\n",
    "import re\n",
    "\n",
    "from tqdm import tqdm"
   ]
  },
  {
   "cell_type": "code",
   "execution_count": 2,
   "id": "695c90e3",
   "metadata": {},
   "outputs": [],
   "source": [
    "conn = sqlite3.connect('RusCorpora_data.db')\n",
    "cur = conn.cursor()\n",
    "\n",
    "cur.execute(\"\"\"\n",
    "CREATE TABLE IF NOT EXISTS examples \n",
    "(id int PRIMARY KEY, table_id text, left text, center text, punct text, right text, title text, author text, birthday text, header text, created text, sphere text, type text, publ text, publ_year text, medium text, ambiguity text, full text)\n",
    "\"\"\")\n",
    "\n",
    "cur.execute(\"\"\"\n",
    "CREATE TABLE IF NOT EXISTS verbs \n",
    "(id int PRIMARY KEY, verb_name text) \n",
    "\"\"\")\n",
    "\n",
    "cur.execute(\"\"\"\n",
    "CREATE TABLE IF NOT EXISTS example_to_verb \n",
    "(id INTEGER PRIMARY KEY AUTOINCREMENT, id_example int, id_verb int) \n",
    "\"\"\")\n",
    "\n",
    "conn.commit()\n",
    "conn.close()"
   ]
  },
  {
   "cell_type": "code",
   "execution_count": 3,
   "id": "8d5b25b3",
   "metadata": {},
   "outputs": [],
   "source": [
    "regex_df_id = re.compile('^[1-5].[0-9]+')"
   ]
  },
  {
   "cell_type": "code",
   "execution_count": 4,
   "id": "fb903d4e",
   "metadata": {},
   "outputs": [],
   "source": [
    "def get_nth_df(df):\n",
    "    blocks = []\n",
    "    for i in range(len(df)):\n",
    "        try:\n",
    "            block = {}\n",
    "            block['id'] = df.iloc[i, 17]\n",
    "            block['left'] = df.iloc[i, 0]\n",
    "            block['center'] = df.iloc[i, 1]\n",
    "            block['punct'] = df.iloc[i, 2]\n",
    "            block['right'] = df.iloc[i, 3]\n",
    "            block['title'] = df.iloc[i, 4]\n",
    "            block['author'] = df.iloc[i, 5]\n",
    "            block['birthday'] = df.iloc[i, 6]\n",
    "            block['header'] = df.iloc[i, 7]\n",
    "            block['created'] = df.iloc[i, 8]\n",
    "            block['sphere'] = df.iloc[i, 9]\n",
    "            block['type'] = df.iloc[i, 10]\n",
    "            block['publication'] = df.iloc[i, 12]\n",
    "            block['publ_year'] = df.iloc[i, 13]\n",
    "            block['medium'] = df.iloc[i, 14]\n",
    "            block['ambiguity'] = df.iloc[i, 15]\n",
    "            block['full'] = df.iloc[i, 16]\n",
    "            blocks.append(block)\n",
    "        except Exception as e:\n",
    "            print('THE 1st level MISTAKE IS HERE', e, end = '\\n\\n')\n",
    "    for b in blocks:\n",
    "        idx = regex_df_id.findall(b['id'])[0]\n",
    "        if idx not in seen_examples:\n",
    "            try:\n",
    "                b['id'] = idx\n",
    "            except Exception as e:\n",
    "                print('THE 2nd level MISTAKE IS HERE', e, end = '\\n\\n')\n",
    "        #else:\n",
    "            #print('Seen', b['id'], end = '\\n\\n')\n",
    "    return blocks"
   ]
  },
  {
   "cell_type": "code",
   "execution_count": 5,
   "id": "7c1bc250",
   "metadata": {},
   "outputs": [],
   "source": [
    "def write_to_db(block, verb):\n",
    "    verbs = []\n",
    "    if verb in db_verbs:\n",
    "        verbs.append(db_verbs[verb])\n",
    "    else:\n",
    "        db_verbs[verb] = len(db_verbs) + 1 \n",
    "        cur.execute('INSERT INTO verbs VALUES (?, ?)', (len(db_verbs), verb))\n",
    "        conn.commit()\n",
    "        verbs.append(db_verbs[verb])    \n",
    "    example_id = len(seen_examples) + 1\n",
    "    cur.execute(\n",
    "        'INSERT INTO examples VALUES (?, ?, ?, ?, ?, ?, ?, ?, ?, ?, ?, ?, ?, ?, ?, ?, ?, ?)',\n",
    "        (example_id, block['id'], block['left'], block['center'], block['punct'], block['right'], block['title'], \n",
    "         block['author'], block['birthday'], block['header'], block['created'], block['sphere'], block['type'], \n",
    "         block['publication'], block['publ_year'], block['medium'], block['ambiguity'], block['full'])\n",
    "    )   \n",
    "    verbs = [(example_id, v) for v in verbs]\n",
    "    cur.executemany(\n",
    "        'INSERT INTO example_to_verb (id_example, id_verb) VALUES (?, ?)',\n",
    "        verbs\n",
    "    )\n",
    "    conn.commit()\n",
    "    seen_examples.add(block['id'])"
   ]
  },
  {
   "cell_type": "code",
   "execution_count": 6,
   "id": "040252a1",
   "metadata": {},
   "outputs": [],
   "source": [
    "conn = sqlite3.connect('RusCorpora_data.db')\n",
    "cur = conn.cursor()\n",
    "cur.execute('SELECT verb_name, id FROM verbs')\n",
    "\n",
    "db_verbs = {}\n",
    "for name, idx in cur.fetchall():\n",
    "    db_verbs[name] = idx\n",
    "\n",
    "cur.execute('SELECT table_id FROM examples')\n",
    "seen_examples = set(i[0] for i in cur.fetchall())"
   ]
  },
  {
   "cell_type": "code",
   "execution_count": 7,
   "id": "39012c65",
   "metadata": {},
   "outputs": [],
   "source": [
    "def run_all(names, cyr_names):\n",
    "    df_list = []\n",
    "    for i in range(len(names)):\n",
    "        cyr = cyr_names[i]\n",
    "        print('Verb:', cyr, end = '\\n')\n",
    "        name = names[i]\n",
    "        df_list.append(pd.read_csv(name + \".csv\", sep='\\t', encoding='utf-8'))\n",
    "        print('There are', len(df_list[i]), 'examples with this verb', end = '\\n')\n",
    "        print('It\\'s going to take a while. Wait for it :)', end = '\\n\\n')\n",
    "        df_list[i][\"df_id\"] = ['' for _ in range(len(df_list[i]))]\n",
    "        for j in range(len(df_list[i])):\n",
    "            df_list[i].iloc[j, 17] = str(i+1) + '.' + str(j+1)\n",
    "        blocks = get_nth_df(df_list[i])\n",
    "        for block in tqdm(blocks):\n",
    "            write_to_db(block, cyr)"
   ]
  },
  {
   "cell_type": "code",
   "execution_count": 8,
   "id": "104c54e8",
   "metadata": {},
   "outputs": [
    {
     "name": "stdout",
     "output_type": "stream",
     "text": [
      "Verb: броситься\n",
      "There are 34729 examples with this verb\n",
      "It's going to take a while. Wait for it :)\n",
      "\n"
     ]
    },
    {
     "name": "stderr",
     "output_type": "stream",
     "text": [
      "100%|█████████████████████████████████████| 34729/34729 [06:59<00:00, 82.79it/s]\n"
     ]
    },
    {
     "name": "stdout",
     "output_type": "stream",
     "text": [
      "Verb: кинуться\n",
      "There are 11127 examples with this verb\n",
      "It's going to take a while. Wait for it :)\n",
      "\n"
     ]
    },
    {
     "name": "stderr",
     "output_type": "stream",
     "text": [
      "100%|█████████████████████████████████████| 11127/11127 [02:12<00:00, 83.67it/s]\n"
     ]
    },
    {
     "name": "stdout",
     "output_type": "stream",
     "text": [
      "Verb: метнуться\n",
      "There are 2387 examples with this verb\n",
      "It's going to take a while. Wait for it :)\n",
      "\n"
     ]
    },
    {
     "name": "stderr",
     "output_type": "stream",
     "text": [
      "100%|███████████████████████████████████████| 2387/2387 [00:28<00:00, 83.29it/s]\n"
     ]
    },
    {
     "name": "stdout",
     "output_type": "stream",
     "text": [
      "Verb: ринуться\n",
      "There are 3835 examples with this verb\n",
      "It's going to take a while. Wait for it :)\n",
      "\n"
     ]
    },
    {
     "name": "stderr",
     "output_type": "stream",
     "text": [
      "100%|███████████████████████████████████████| 3835/3835 [00:46<00:00, 83.29it/s]\n"
     ]
    },
    {
     "name": "stdout",
     "output_type": "stream",
     "text": [
      "Verb: рвануться\n",
      "There are 3076 examples with this verb\n",
      "It's going to take a while. Wait for it :)\n",
      "\n"
     ]
    },
    {
     "name": "stderr",
     "output_type": "stream",
     "text": [
      "100%|███████████████████████████████████████| 3076/3076 [00:37<00:00, 82.04it/s]\n"
     ]
    }
   ],
   "source": [
    "run_all([\"brositsya\", \"kinutsya\", \"metnutsya\", \"rinutsya\", \"rvanutsya\"], [\"броситься\", \"кинуться\", \"метнуться\", \"ринуться\", \"рвануться\"])"
   ]
  },
  {
   "cell_type": "markdown",
   "id": "47143819",
   "metadata": {},
   "source": [
    "As we can see every example is accounted for."
   ]
  },
  {
   "cell_type": "code",
   "execution_count": 9,
   "id": "c7c1072d",
   "metadata": {},
   "outputs": [
    {
     "data": {
      "text/plain": [
       "[(34729, 'броситься'),\n",
       " (11127, 'кинуться'),\n",
       " (3835, 'ринуться'),\n",
       " (3076, 'рвануться'),\n",
       " (2387, 'метнуться')]"
      ]
     },
     "execution_count": 9,
     "metadata": {},
     "output_type": "execute_result"
    }
   ],
   "source": [
    "cur.execute(\"\"\"\n",
    "SELECT count(example_to_verb.id) as cnt, verbs.verb_name \n",
    "    FROM example_to_verb \n",
    "        JOIN verbs ON verbs.id = example_to_verb.id_verb\n",
    "            GROUP BY example_to_verb.id_verb\n",
    "            ORDER BY cnt DESC;\n",
    "\"\"\")\n",
    "cur.fetchall()"
   ]
  },
  {
   "cell_type": "markdown",
   "id": "9785b95c",
   "metadata": {},
   "source": [
    "Now that we have a database let's make a dataframe out of it as it is easier to work with:"
   ]
  },
  {
   "cell_type": "code",
   "execution_count": 134,
   "id": "7ee73f84",
   "metadata": {},
   "outputs": [
    {
     "data": {
      "text/html": [
       "<div>\n",
       "<style scoped>\n",
       "    .dataframe tbody tr th:only-of-type {\n",
       "        vertical-align: middle;\n",
       "    }\n",
       "\n",
       "    .dataframe tbody tr th {\n",
       "        vertical-align: top;\n",
       "    }\n",
       "\n",
       "    .dataframe thead th {\n",
       "        text-align: right;\n",
       "    }\n",
       "</style>\n",
       "<table border=\"1\" class=\"dataframe\">\n",
       "  <thead>\n",
       "    <tr style=\"text-align: right;\">\n",
       "      <th></th>\n",
       "      <th>verb_name</th>\n",
       "      <th>left</th>\n",
       "      <th>center</th>\n",
       "      <th>punct</th>\n",
       "      <th>right</th>\n",
       "      <th>title</th>\n",
       "      <th>author</th>\n",
       "      <th>birthday</th>\n",
       "      <th>header</th>\n",
       "      <th>created</th>\n",
       "      <th>sphere</th>\n",
       "      <th>type</th>\n",
       "      <th>publ</th>\n",
       "      <th>publ_year</th>\n",
       "      <th>medium</th>\n",
       "      <th>ambiguity</th>\n",
       "      <th>full</th>\n",
       "    </tr>\n",
       "  </thead>\n",
       "  <tbody>\n",
       "    <tr>\n",
       "      <th>0</th>\n",
       "      <td>броситься</td>\n",
       "      <td>так мужественно шпагами назад на неприятеля</td>\n",
       "      <td>бросились</td>\n",
       "      <td>,</td>\n",
       "      <td>которого удивително (понеже уже наш вал</td>\n",
       "      <td>А. М. Макаров (ред.). Гистория Свейской войны ...</td>\n",
       "      <td>А. М. Макаров (ред.)</td>\n",
       "      <td>1674</td>\n",
       "      <td>Гистория Свейской войны (Поденная записка Петр...</td>\n",
       "      <td>1698-1721</td>\n",
       "      <td>официально-деловая | публицистика</td>\n",
       "      <td>дневник, записные книжки</td>\n",
       "      <td>Гистория Свейской войны (Поденная записка Петр...</td>\n",
       "      <td>2004</td>\n",
       "      <td>книга</td>\n",
       "      <td>омонимия не снята</td>\n",
       "      <td>И уже сей пост был отчаян, но как одна рота пе...</td>\n",
       "    </tr>\n",
       "    <tr>\n",
       "      <th>1</th>\n",
       "      <td>броситься</td>\n",
       "      <td>побивъ прежде 20 человѣкъ Черкасъ, которые</td>\n",
       "      <td>бросились</td>\n",
       "      <td></td>\n",
       "      <td>грабить убитыхъ Татаръ.</td>\n",
       "      <td>I. К. Таубертъ. Краткое описаніе всѣхъ случаев...</td>\n",
       "      <td>I. К. Таубертъ</td>\n",
       "      <td>1717</td>\n",
       "      <td>Краткое описаніе всѣхъ случаевъ касающихся до ...</td>\n",
       "      <td>1738</td>\n",
       "      <td>учебно-научная</td>\n",
       "      <td>монография</td>\n",
       "      <td>Краткое описаніе всѣхъ случаевъ касающихся до ...</td>\n",
       "      <td>1738</td>\n",
       "      <td>книга</td>\n",
       "      <td>омонимия не снята</td>\n",
       "      <td>Но какъ имъ въ томъ не удалось, то они опять н...</td>\n",
       "    </tr>\n",
       "    <tr>\n",
       "      <th>2</th>\n",
       "      <td>броситься</td>\n",
       "      <td>внешний воздух отвернутым гвоздем в него</td>\n",
       "      <td>бросится</td>\n",
       "      <td>.</td>\n",
       "      <td>None</td>\n",
       "      <td>М. В. Ломоносов. Волфианская экспериментальная...</td>\n",
       "      <td>М. В. Ломоносов</td>\n",
       "      <td>1711</td>\n",
       "      <td>Волфианская экспериментальная физика, с немецк...</td>\n",
       "      <td>1745</td>\n",
       "      <td>учебно-научная</td>\n",
       "      <td>учебник | перевод</td>\n",
       "      <td>М. В. Ломоносов. Полное собрание сочинений: В ...</td>\n",
       "      <td>1950</td>\n",
       "      <td>книга</td>\n",
       "      <td>омонимия не снята</td>\n",
       "      <td>То же воспоследует, ежели в стеклянном колокол...</td>\n",
       "    </tr>\n",
       "  </tbody>\n",
       "</table>\n",
       "</div>"
      ],
      "text/plain": [
       "   verb_name                                          left     center punct  \\\n",
       "0  броситься  так мужественно шпагами назад на неприятеля   бросились    ,    \n",
       "1  броситься   побивъ прежде 20 человѣкъ Черкасъ, которые   бросились         \n",
       "2  броситься     внешний воздух отвернутым гвоздем в него    бросится     .   \n",
       "\n",
       "                                     right  \\\n",
       "0  которого удивително (понеже уже наш вал   \n",
       "1                  грабить убитыхъ Татаръ.   \n",
       "2                                     None   \n",
       "\n",
       "                                               title                author  \\\n",
       "0  А. М. Макаров (ред.). Гистория Свейской войны ...  А. М. Макаров (ред.)   \n",
       "1  I. К. Таубертъ. Краткое описаніе всѣхъ случаев...        I. К. Таубертъ   \n",
       "2  М. В. Ломоносов. Волфианская экспериментальная...       М. В. Ломоносов   \n",
       "\n",
       "  birthday                                             header    created  \\\n",
       "0     1674  Гистория Свейской войны (Поденная записка Петр...  1698-1721   \n",
       "1     1717  Краткое описаніе всѣхъ случаевъ касающихся до ...       1738   \n",
       "2     1711  Волфианская экспериментальная физика, с немецк...       1745   \n",
       "\n",
       "                              sphere                      type  \\\n",
       "0  официально-деловая | публицистика  дневник, записные книжки   \n",
       "1                     учебно-научная                монография   \n",
       "2                     учебно-научная         учебник | перевод   \n",
       "\n",
       "                                                publ publ_year medium  \\\n",
       "0  Гистория Свейской войны (Поденная записка Петр...      2004  книга   \n",
       "1  Краткое описаніе всѣхъ случаевъ касающихся до ...      1738  книга   \n",
       "2  М. В. Ломоносов. Полное собрание сочинений: В ...      1950  книга   \n",
       "\n",
       "           ambiguity                                               full  \n",
       "0  омонимия не снята  И уже сей пост был отчаян, но как одна рота пе...  \n",
       "1  омонимия не снята  Но какъ имъ въ томъ не удалось, то они опять н...  \n",
       "2  омонимия не снята  То же воспоследует, ежели в стеклянном колокол...  "
      ]
     },
     "execution_count": 134,
     "metadata": {},
     "output_type": "execute_result"
    }
   ],
   "source": [
    "import pandas as pd\n",
    "\n",
    "sql_query = pd.read_sql_query ('''\n",
    "                               SELECT\n",
    "                               verb_name, left, center, punct, right, title, author, birthday, header, created, sphere, type, publ, publ_year, medium, ambiguity, full\n",
    "                               FROM example_to_verb\n",
    "                                   JOIN verbs ON example_to_verb.id_verb=verbs.id\n",
    "                                   JOIN examples ON example_to_verb.id_example=examples.id\n",
    "                               ''', conn)\n",
    "\n",
    "df = pd.DataFrame(sql_query)\n",
    "\n",
    "df.head(3)"
   ]
  },
  {
   "cell_type": "code",
   "execution_count": 135,
   "id": "27abb6cb",
   "metadata": {
    "scrolled": true
   },
   "outputs": [
    {
     "name": "stdout",
     "output_type": "stream",
     "text": [
      "There are 3177 examples with puctuation after the verbs\n",
      "броситься\n",
      "кинуться\n",
      "метнуться\n",
      "ринуться\n",
      "рвануться\n",
      "\n",
      " 0.06 of all examples\n"
     ]
    },
    {
     "data": {
      "text/html": [
       "<div>\n",
       "<style scoped>\n",
       "    .dataframe tbody tr th:only-of-type {\n",
       "        vertical-align: middle;\n",
       "    }\n",
       "\n",
       "    .dataframe tbody tr th {\n",
       "        vertical-align: top;\n",
       "    }\n",
       "\n",
       "    .dataframe thead th {\n",
       "        text-align: right;\n",
       "    }\n",
       "</style>\n",
       "<table border=\"1\" class=\"dataframe\">\n",
       "  <thead>\n",
       "    <tr style=\"text-align: right;\">\n",
       "      <th></th>\n",
       "      <th>verb_name</th>\n",
       "      <th>left</th>\n",
       "      <th>center</th>\n",
       "      <th>punct</th>\n",
       "      <th>right</th>\n",
       "      <th>title</th>\n",
       "      <th>author</th>\n",
       "      <th>birthday</th>\n",
       "      <th>header</th>\n",
       "      <th>created</th>\n",
       "      <th>sphere</th>\n",
       "      <th>type</th>\n",
       "      <th>publ</th>\n",
       "      <th>publ_year</th>\n",
       "      <th>medium</th>\n",
       "      <th>ambiguity</th>\n",
       "      <th>full</th>\n",
       "    </tr>\n",
       "  </thead>\n",
       "  <tbody>\n",
       "    <tr>\n",
       "      <th>0</th>\n",
       "      <td>броситься</td>\n",
       "      <td>так мужественно шпагами назад на неприятеля</td>\n",
       "      <td>бросились</td>\n",
       "      <td>,</td>\n",
       "      <td>которого удивително (понеже уже наш вал</td>\n",
       "      <td>А. М. Макаров (ред.). Гистория Свейской войны ...</td>\n",
       "      <td>А. М. Макаров (ред.)</td>\n",
       "      <td>1674</td>\n",
       "      <td>Гистория Свейской войны (Поденная записка Петр...</td>\n",
       "      <td>1698-1721</td>\n",
       "      <td>официально-деловая | публицистика</td>\n",
       "      <td>дневник, записные книжки</td>\n",
       "      <td>Гистория Свейской войны (Поденная записка Петр...</td>\n",
       "      <td>2004</td>\n",
       "      <td>книга</td>\n",
       "      <td>омонимия не снята</td>\n",
       "      <td>И уже сей пост был отчаян, но как одна рота пе...</td>\n",
       "    </tr>\n",
       "    <tr>\n",
       "      <th>2</th>\n",
       "      <td>броситься</td>\n",
       "      <td>внешний воздух отвернутым гвоздем в него</td>\n",
       "      <td>бросится</td>\n",
       "      <td>.</td>\n",
       "      <td>None</td>\n",
       "      <td>М. В. Ломоносов. Волфианская экспериментальная...</td>\n",
       "      <td>М. В. Ломоносов</td>\n",
       "      <td>1711</td>\n",
       "      <td>Волфианская экспериментальная физика, с немецк...</td>\n",
       "      <td>1745</td>\n",
       "      <td>учебно-научная</td>\n",
       "      <td>учебник | перевод</td>\n",
       "      <td>М. В. Ломоносов. Полное собрание сочинений: В ...</td>\n",
       "      <td>1950</td>\n",
       "      <td>книга</td>\n",
       "      <td>омонимия не снята</td>\n",
       "      <td>То же воспоследует, ежели в стеклянном колокол...</td>\n",
       "    </tr>\n",
       "    <tr>\n",
       "      <th>4</th>\n",
       "      <td>броситься</td>\n",
       "      <td>Все лучше, нежели в воду</td>\n",
       "      <td>броситься</td>\n",
       "      <td>.</td>\n",
       "      <td>None</td>\n",
       "      <td>А. П. Сумароков. Чудовищи (1750)</td>\n",
       "      <td>А. П. Сумароков</td>\n",
       "      <td>1717</td>\n",
       "      <td>Чудовищи</td>\n",
       "      <td>1750</td>\n",
       "      <td>художественная</td>\n",
       "      <td>комедия | пьеса</td>\n",
       "      <td>А. П. Сумароков. Драматические произведения</td>\n",
       "      <td>1990</td>\n",
       "      <td>электронный текст</td>\n",
       "      <td>омонимия не снята</td>\n",
       "      <td>Все лучше, нежели в воду броситься.</td>\n",
       "    </tr>\n",
       "  </tbody>\n",
       "</table>\n",
       "</div>"
      ],
      "text/plain": [
       "   verb_name                                          left     center punct  \\\n",
       "0  броситься  так мужественно шпагами назад на неприятеля   бросились    ,    \n",
       "2  броситься     внешний воздух отвернутым гвоздем в него    бросится     .   \n",
       "4  броситься                     Все лучше, нежели в воду   броситься     .   \n",
       "\n",
       "                                     right  \\\n",
       "0  которого удивително (понеже уже наш вал   \n",
       "2                                     None   \n",
       "4                                     None   \n",
       "\n",
       "                                               title                author  \\\n",
       "0  А. М. Макаров (ред.). Гистория Свейской войны ...  А. М. Макаров (ред.)   \n",
       "2  М. В. Ломоносов. Волфианская экспериментальная...       М. В. Ломоносов   \n",
       "4                   А. П. Сумароков. Чудовищи (1750)       А. П. Сумароков   \n",
       "\n",
       "  birthday                                             header    created  \\\n",
       "0     1674  Гистория Свейской войны (Поденная записка Петр...  1698-1721   \n",
       "2     1711  Волфианская экспериментальная физика, с немецк...       1745   \n",
       "4     1717                                           Чудовищи       1750   \n",
       "\n",
       "                              sphere                      type  \\\n",
       "0  официально-деловая | публицистика  дневник, записные книжки   \n",
       "2                     учебно-научная         учебник | перевод   \n",
       "4                     художественная           комедия | пьеса   \n",
       "\n",
       "                                                publ publ_year  \\\n",
       "0  Гистория Свейской войны (Поденная записка Петр...      2004   \n",
       "2  М. В. Ломоносов. Полное собрание сочинений: В ...      1950   \n",
       "4        А. П. Сумароков. Драматические произведения      1990   \n",
       "\n",
       "              medium          ambiguity  \\\n",
       "0              книга  омонимия не снята   \n",
       "2              книга  омонимия не снята   \n",
       "4  электронный текст  омонимия не снята   \n",
       "\n",
       "                                                full  \n",
       "0  И уже сей пост был отчаян, но как одна рота пе...  \n",
       "2  То же воспоследует, ежели в стеклянном колокол...  \n",
       "4                Все лучше, нежели в воду броситься.  "
      ]
     },
     "execution_count": 135,
     "metadata": {},
     "output_type": "execute_result"
    }
   ],
   "source": [
    "verbs = []\n",
    "for i in range(len(df)):\n",
    "    if df.iloc[i, 0] not in verbs:\n",
    "        verbs.append(df.iloc[i, 0])\n",
    "        \n",
    "contain_punct = df[df['punct'] != ' ']\n",
    "print('There are', len(contain_punct), 'examples with puctuation after the verbs')\n",
    "for i in verbs:\n",
    "    print(i)\n",
    "print('\\n', round(len(contain_punct)/len(df['punct']), 2), 'of all examples')\n",
    "contain_punct.head(3)"
   ]
  },
  {
   "cell_type": "code",
   "execution_count": 20,
   "id": "b546245e",
   "metadata": {
    "scrolled": true
   },
   "outputs": [
    {
     "name": "stderr",
     "output_type": "stream",
     "text": [
      "2022-12-14 22:32:41.543452: I tensorflow/core/platform/cpu_feature_guard.cc:193] This TensorFlow binary is optimized with oneAPI Deep Neural Network Library (oneDNN) to use the following CPU instructions in performance-critical operations:  AVX2 FMA\n",
      "To enable them in other operations, rebuild TensorFlow with the appropriate compiler flags.\n",
      "2022-12-14 22:32:41.670273: W tensorflow/compiler/xla/stream_executor/platform/default/dso_loader.cc:64] Could not load dynamic library 'libcudart.so.11.0'; dlerror: libcudart.so.11.0: cannot open shared object file: No such file or directory\n",
      "2022-12-14 22:32:41.670298: I tensorflow/compiler/xla/stream_executor/cuda/cudart_stub.cc:29] Ignore above cudart dlerror if you do not have a GPU set up on your machine.\n",
      "2022-12-14 22:32:42.478655: W tensorflow/compiler/xla/stream_executor/platform/default/dso_loader.cc:64] Could not load dynamic library 'libnvinfer.so.7'; dlerror: libnvinfer.so.7: cannot open shared object file: No such file or directory\n",
      "2022-12-14 22:32:42.478709: W tensorflow/compiler/xla/stream_executor/platform/default/dso_loader.cc:64] Could not load dynamic library 'libnvinfer_plugin.so.7'; dlerror: libnvinfer_plugin.so.7: cannot open shared object file: No such file or directory\n",
      "2022-12-14 22:32:42.478714: W tensorflow/compiler/tf2tensorrt/utils/py_utils.cc:38] TF-TRT Warning: Cannot dlopen some TensorRT libraries. If you would like to use Nvidia GPU with TensorRT, please make sure the missing libraries mentioned above are installed properly.\n",
      "2022-12-14 22:32:43.334115: W tensorflow/compiler/xla/stream_executor/platform/default/dso_loader.cc:64] Could not load dynamic library 'libcuda.so.1'; dlerror: libcuda.so.1: cannot open shared object file: No such file or directory\n",
      "2022-12-14 22:32:43.334144: W tensorflow/compiler/xla/stream_executor/cuda/cuda_driver.cc:265] failed call to cuInit: UNKNOWN ERROR (303)\n",
      "2022-12-14 22:32:43.334162: I tensorflow/compiler/xla/stream_executor/cuda/cuda_diagnostics.cc:156] kernel driver does not appear to be running on this host (anya-ZenBook-UX425QA-UM425QA): /proc/driver/nvidia/version does not exist\n"
     ]
    },
    {
     "name": "stdout",
     "output_type": "stream",
     "text": [
      "Defaulting to user installation because normal site-packages is not writeable\n",
      "Collecting ru-core-news-sm==3.4.0\n",
      "  Downloading https://github.com/explosion/spacy-models/releases/download/ru_core_news_sm-3.4.0/ru_core_news_sm-3.4.0-py3-none-any.whl (15.3 MB)\n",
      "     ━━━━━━━━━━━━━━━━━━━━━━━━━━━━━━━━━━━━━━━━ 15.3/15.3 MB 4.9 MB/s eta 0:00:00\n",
      "Requirement already satisfied: pymorphy2>=0.9 in /home/anya/.local/lib/python3.8/site-packages (from ru-core-news-sm==3.4.0) (0.9.1)\n",
      "Requirement already satisfied: spacy<3.5.0,>=3.4.0 in /home/anya/.local/lib/python3.8/site-packages (from ru-core-news-sm==3.4.0) (3.4.2)\n",
      "Requirement already satisfied: dawg-python>=0.7.1 in /home/anya/.local/lib/python3.8/site-packages (from pymorphy2>=0.9->ru-core-news-sm==3.4.0) (0.7.2)\n",
      "Requirement already satisfied: pymorphy2-dicts-ru<3.0,>=2.4 in /home/anya/.local/lib/python3.8/site-packages (from pymorphy2>=0.9->ru-core-news-sm==3.4.0) (2.4.417127.4579844)\n",
      "Requirement already satisfied: docopt>=0.6 in /home/anya/.local/lib/python3.8/site-packages (from pymorphy2>=0.9->ru-core-news-sm==3.4.0) (0.6.2)\n",
      "Requirement already satisfied: numpy>=1.15.0 in /home/anya/.local/lib/python3.8/site-packages (from spacy<3.5.0,>=3.4.0->ru-core-news-sm==3.4.0) (1.23.3)\n",
      "Requirement already satisfied: jinja2 in /home/anya/.local/lib/python3.8/site-packages (from spacy<3.5.0,>=3.4.0->ru-core-news-sm==3.4.0) (3.1.2)\n",
      "Requirement already satisfied: packaging>=20.0 in /usr/lib/python3/dist-packages (from spacy<3.5.0,>=3.4.0->ru-core-news-sm==3.4.0) (20.3)\n",
      "Requirement already satisfied: spacy-loggers<2.0.0,>=1.0.0 in /home/anya/.local/lib/python3.8/site-packages (from spacy<3.5.0,>=3.4.0->ru-core-news-sm==3.4.0) (1.0.3)\n",
      "Requirement already satisfied: murmurhash<1.1.0,>=0.28.0 in /home/anya/.local/lib/python3.8/site-packages (from spacy<3.5.0,>=3.4.0->ru-core-news-sm==3.4.0) (1.0.9)\n",
      "Requirement already satisfied: requests<3.0.0,>=2.13.0 in /usr/lib/python3/dist-packages (from spacy<3.5.0,>=3.4.0->ru-core-news-sm==3.4.0) (2.22.0)\n",
      "Requirement already satisfied: spacy-legacy<3.1.0,>=3.0.10 in /home/anya/.local/lib/python3.8/site-packages (from spacy<3.5.0,>=3.4.0->ru-core-news-sm==3.4.0) (3.0.10)\n",
      "Requirement already satisfied: setuptools in /home/anya/.local/lib/python3.8/site-packages (from spacy<3.5.0,>=3.4.0->ru-core-news-sm==3.4.0) (65.5.0)\n",
      "Requirement already satisfied: tqdm<5.0.0,>=4.38.0 in /home/anya/.local/lib/python3.8/site-packages (from spacy<3.5.0,>=3.4.0->ru-core-news-sm==3.4.0) (4.64.1)\n",
      "Requirement already satisfied: thinc<8.2.0,>=8.1.0 in /home/anya/.local/lib/python3.8/site-packages (from spacy<3.5.0,>=3.4.0->ru-core-news-sm==3.4.0) (8.1.5)\n",
      "Requirement already satisfied: catalogue<2.1.0,>=2.0.6 in /home/anya/.local/lib/python3.8/site-packages (from spacy<3.5.0,>=3.4.0->ru-core-news-sm==3.4.0) (2.0.8)\n",
      "Requirement already satisfied: langcodes<4.0.0,>=3.2.0 in /home/anya/.local/lib/python3.8/site-packages (from spacy<3.5.0,>=3.4.0->ru-core-news-sm==3.4.0) (3.3.0)\n",
      "Requirement already satisfied: pathy>=0.3.5 in /home/anya/.local/lib/python3.8/site-packages (from spacy<3.5.0,>=3.4.0->ru-core-news-sm==3.4.0) (0.6.2)\n",
      "Requirement already satisfied: srsly<3.0.0,>=2.4.3 in /home/anya/.local/lib/python3.8/site-packages (from spacy<3.5.0,>=3.4.0->ru-core-news-sm==3.4.0) (2.4.5)\n",
      "Requirement already satisfied: preshed<3.1.0,>=3.0.2 in /home/anya/.local/lib/python3.8/site-packages (from spacy<3.5.0,>=3.4.0->ru-core-news-sm==3.4.0) (3.0.8)\n",
      "Requirement already satisfied: pydantic!=1.8,!=1.8.1,<1.11.0,>=1.7.4 in /home/anya/.local/lib/python3.8/site-packages (from spacy<3.5.0,>=3.4.0->ru-core-news-sm==3.4.0) (1.10.2)\n",
      "Requirement already satisfied: typer<0.5.0,>=0.3.0 in /home/anya/.local/lib/python3.8/site-packages (from spacy<3.5.0,>=3.4.0->ru-core-news-sm==3.4.0) (0.4.2)\n",
      "Requirement already satisfied: cymem<2.1.0,>=2.0.2 in /home/anya/.local/lib/python3.8/site-packages (from spacy<3.5.0,>=3.4.0->ru-core-news-sm==3.4.0) (2.0.7)\n",
      "Requirement already satisfied: wasabi<1.1.0,>=0.9.1 in /home/anya/.local/lib/python3.8/site-packages (from spacy<3.5.0,>=3.4.0->ru-core-news-sm==3.4.0) (0.10.1)\n",
      "Requirement already satisfied: smart-open<6.0.0,>=5.2.1 in /home/anya/.local/lib/python3.8/site-packages (from pathy>=0.3.5->spacy<3.5.0,>=3.4.0->ru-core-news-sm==3.4.0) (5.2.1)\n",
      "Requirement already satisfied: typing-extensions>=4.1.0 in /home/anya/.local/lib/python3.8/site-packages (from pydantic!=1.8,!=1.8.1,<1.11.0,>=1.7.4->spacy<3.5.0,>=3.4.0->ru-core-news-sm==3.4.0) (4.4.0)\n",
      "Requirement already satisfied: blis<0.8.0,>=0.7.8 in /home/anya/.local/lib/python3.8/site-packages (from thinc<8.2.0,>=8.1.0->spacy<3.5.0,>=3.4.0->ru-core-news-sm==3.4.0) (0.7.9)\n",
      "Requirement already satisfied: confection<1.0.0,>=0.0.1 in /home/anya/.local/lib/python3.8/site-packages (from thinc<8.2.0,>=8.1.0->spacy<3.5.0,>=3.4.0->ru-core-news-sm==3.4.0) (0.0.3)\n",
      "Requirement already satisfied: click<9.0.0,>=7.1.1 in /home/anya/.local/lib/python3.8/site-packages (from typer<0.5.0,>=0.3.0->spacy<3.5.0,>=3.4.0->ru-core-news-sm==3.4.0) (8.1.3)\n",
      "Requirement already satisfied: MarkupSafe>=2.0 in /home/anya/.local/lib/python3.8/site-packages (from jinja2->spacy<3.5.0,>=3.4.0->ru-core-news-sm==3.4.0) (2.1.1)\n",
      "\u001b[38;5;2m✔ Download and installation successful\u001b[0m\n",
      "You can now load the package via spacy.load('ru_core_news_sm')\n"
     ]
    }
   ],
   "source": [
    "import spacy.cli\n",
    "nlp = spacy.cli.download(\"ru_core_news_sm\")\n",
    "nlp = spacy.load(\"ru_core_news_sm\")\n",
    "\n",
    "from spacy import displacy\n",
    "from spacy import tokenizer"
   ]
  },
  {
   "cell_type": "markdown",
   "id": "7c0e9b05",
   "metadata": {},
   "source": [
    "Usually punctation mark is udes to mark a border of the clause -- therefore, it is within reason to remove all examples where _броситься_ (or other verbs) is the last word in the clause. Nevertheless there are few arguments against this:\n",
    "1) Some punctuation marks -- a hyphen, for instance, -- don't mark an end of a clause (_А __кинусь-ка__ я сам туда -- и все дела!_)\n",
    "2) Even if there are dots, commas, etc. in df['punct'] the verbs in question have a dependant group in the left part of the context\n",
    "\n",
    "..but there are only a few examples of this kind and it's considerably more difficult to deal with it."
   ]
  },
  {
   "cell_type": "code",
   "execution_count": 154,
   "id": "08c6fd8c",
   "metadata": {
    "scrolled": true
   },
   "outputs": [
    {
     "name": "stdout",
     "output_type": "stream",
     "text": [
      "[E1041] Expected a string, Doc, or bytes as input, but got: <class 'NoneType'>\n"
     ]
    }
   ],
   "source": [
    "df1 = df[df['punct'] == ' ']\n",
    "seen_pos1 = {}\n",
    "seen_pos2 = {}    \n",
    "\n",
    "for i in range(len(df1)):\n",
    "    try:\n",
    "        abstr = nlp(df1.iloc[i, 4])\n",
    "        if abstr[0].pos_ not in seen_pos1:\n",
    "            if abstr[0].pos_ + ' + ' + abstr[1].pos_ not in seen_pos2:\n",
    "                seen_pos1[abstr[0].pos_] = 1\n",
    "                seen_pos2[abstr[0].pos_ + ' + ' + abstr[1].pos_] = 1\n",
    "                #print('new', abstr[0].pos_ + ' + ' + abstr[1].pos_)\n",
    "            else:\n",
    "                seen_pos1[abstr[0].pos_] = 1\n",
    "                seen_pos2[abstr[0].pos_ + ' + ' + abstr[1].pos_] += 1\n",
    "                print('That\\'s unusual!', abstr[0].pos_ + ' + ' + abstr[1].pos_)\n",
    "        else:\n",
    "            if abstr[0].pos_ + ' + ' + abstr[1].pos_ not in seen_pos2:\n",
    "                seen_pos1[abstr[0].pos_] += 1\n",
    "                seen_pos2[abstr[0].pos_ + ' + ' + abstr[1].pos_] = 1\n",
    "                #print('old but gold', abstr[0].pos_ + ' + ' + abstr[1].pos_)\n",
    "            else:\n",
    "                seen_pos1[abstr[0].pos_] += 1\n",
    "                seen_pos2[abstr[0].pos_ + ' + ' + abstr[1].pos_] += 1\n",
    "                #print('old', abstr[0].pos_ + ' + ' + abstr[1].pos_)\n",
    "    except Exception as e:\n",
    "        print(e)"
   ]
  },
  {
   "cell_type": "markdown",
   "id": "bcaea245",
   "metadata": {},
   "source": [
    "Here we have all types of constructions that follow sought-for verb (only the ones that were found in at least 1% of all examples):"
   ]
  },
  {
   "cell_type": "code",
   "execution_count": 155,
   "id": "c41322d0",
   "metadata": {
    "scrolled": true
   },
   "outputs": [
    {
     "name": "stdout",
     "output_type": "stream",
     "text": [
      "ADP + NOUN \t 18973\n",
      "ADP + PRON \t 5579\n",
      "ADP + ADJ \t 3073\n",
      "ADP + PROPN \t 2106\n",
      "PRON + ADP \t 1704\n",
      "ADP + DET \t 1567\n",
      "ADV + ADP \t 1465\n",
      "VERB + NOUN \t 1382\n",
      "VERB + ADP \t 786\n",
      "NOUN + ADP \t 774\n",
      "NOUN + NOUN \t 587\n",
      "PRON + VERB \t 558\n",
      "VERB + PRON \t 534\n",
      "AUX + ADP \t 522\n"
     ]
    }
   ],
   "source": [
    "pairs = {}\n",
    "\n",
    "for k in sorted(seen_pos2, key=seen_pos2.get, reverse=True):\n",
    "    if seen_pos2[k] > len(df1)/100 and 'PUNCT' not in k:\n",
    "        print(k, '\\t', seen_pos2[k])\n",
    "        pairs[k] = seen_pos2[k]"
   ]
  },
  {
   "cell_type": "markdown",
   "id": "0ec53d2c",
   "metadata": {},
   "source": [
    "Some of these constructions could be combined. For example, it doesn't change a lot whether an adposition is followed by a noun or a pronoun or an adjective (_кинуться к дому_ or _кинуться к нему_ or _кинуться к старому [другу]_). A _verb + verb_ construction doesn't seem to change a lot with different follow-up words (_броситься бежать_, _кинуться помогать_ are ~independant constructions on their own):"
   ]
  },
  {
   "cell_type": "code",
   "execution_count": 156,
   "id": "66fbc758",
   "metadata": {},
   "outputs": [
    {
     "name": "stdout",
     "output_type": "stream",
     "text": [
      "ADP +\t \t 31298\n",
      "VERB +\t \t 2702\n",
      "PRON + ADP \t 1704\n",
      "ADV + ADP \t 1465\n",
      "NOUN + ADP \t 774\n",
      "NOUN + NOUN \t 587\n",
      "PRON + VERB \t 558\n",
      "AUX + ADP \t 522\n"
     ]
    }
   ],
   "source": [
    "pairs_new = {}\n",
    "i = 0\n",
    "j = 0\n",
    "\n",
    "for k in pairs:\n",
    "    if 'ADP +' in k:\n",
    "        i += pairs[k]        \n",
    "    if 'VERB +' in k:\n",
    "        j += pairs[k]        \n",
    "\n",
    "for k in pairs:\n",
    "    if 'ADP +' not in k and 'VERB +' not in k:\n",
    "        pairs_new[k] = pairs[k]\n",
    "    elif 'ADP +' in k:\n",
    "        pairs_new['ADP +\\t'] = i\n",
    "    elif 'VERB +' in k:\n",
    "        pairs_new['VERB +\\t'] = j\n",
    "\n",
    "for k in sorted(pairs_new, key=pairs_new.get, reverse=True):\n",
    "    print(k, '\\t', pairs_new[k])"
   ]
  },
  {
   "cell_type": "markdown",
   "id": "ef22f96d",
   "metadata": {},
   "source": [
    "   Now let's take a look at constructions of a type _броситься/кинуться/.. + предлог + существительное_ as it is the most frequent. I am going to use lists of 3-grams from RusCorpora. It is important to mention that I'm going to look as for the construtions with dependant group after the verb as for the ones with dependant group before the verb (_краска бросилась ему __в лицо___ and _ему __в лицо__ бросилась краска_) -- but at the same time I'm only going to pay attention to the dependant groups right next to the verb (_краска бросилась __ему__ в лицо_ and _ему __в лицо__ бросилась краска_).\n",
    "   \n",
    "   We need to use a model (from https://rusvectores.org/ru/):"
   ]
  },
  {
   "cell_type": "code",
   "execution_count": 13,
   "id": "52d81d9e",
   "metadata": {},
   "outputs": [],
   "source": [
    "#!pip install wget\n",
    "import wget\n",
    "\n",
    "#!pip install gensim -U\n",
    "import sys\n",
    "import gensim, logging\n",
    "\n",
    "import zipfile"
   ]
  },
  {
   "cell_type": "code",
   "execution_count": 14,
   "id": "126af435",
   "metadata": {},
   "outputs": [
    {
     "name": "stdout",
     "output_type": "stream",
     "text": [
      "100% [..................................................] 638171816 / 638171816"
     ]
    }
   ],
   "source": [
    "model_url = 'http://vectors.nlpl.eu/repository/20/220.zip'\n",
    "m = wget.download(model_url)\n",
    "model_file = model_url.split('/')[-1]\n",
    "with zipfile.ZipFile(model_file, 'r') as archive:\n",
    "    stream = archive.open('model.bin')\n",
    "    model = gensim.models.KeyedVectors.load_word2vec_format(stream, binary=True)"
   ]
  },
  {
   "cell_type": "code",
   "execution_count": 17,
   "id": "d508ecb7",
   "metadata": {},
   "outputs": [],
   "source": [
    "names = [\"brositsya\", \"kinutsya\", \"metnutsya\", \"rinutsya\", \"rvanutsya\"]\n",
    "#verbs = [\"броситься\", \"кинуться\", \"метнуться\", \"ринуться\", \"рвануться\"]\n",
    "df_list = []\n",
    "\n",
    "for i in range(5):\n",
    "    name = names[i]\n",
    "    df_list.append(pd.read_csv(name + \"+s.csv\", sep='\\t', encoding='utf-8'))"
   ]
  },
  {
   "cell_type": "code",
   "execution_count": 18,
   "id": "9af60884",
   "metadata": {},
   "outputs": [],
   "source": [
    "from pymystem3 import Mystem\n",
    "import pymorphy2\n",
    "\n",
    "m = Mystem()"
   ]
  },
  {
   "cell_type": "code",
   "execution_count": 19,
   "id": "e236af45",
   "metadata": {},
   "outputs": [
    {
     "data": {
      "text/html": [
       "<div>\n",
       "<style scoped>\n",
       "    .dataframe tbody tr th:only-of-type {\n",
       "        vertical-align: middle;\n",
       "    }\n",
       "\n",
       "    .dataframe tbody tr th {\n",
       "        vertical-align: top;\n",
       "    }\n",
       "\n",
       "    .dataframe thead th {\n",
       "        text-align: right;\n",
       "    }\n",
       "</style>\n",
       "<table border=\"1\" class=\"dataframe\">\n",
       "  <thead>\n",
       "    <tr style=\"text-align: right;\">\n",
       "      <th></th>\n",
       "      <th>Вхождения</th>\n",
       "      <th>Фрагмент</th>\n",
       "    </tr>\n",
       "  </thead>\n",
       "  <tbody>\n",
       "    <tr>\n",
       "      <th>0</th>\n",
       "      <td>1042</td>\n",
       "      <td>броситься в глаз</td>\n",
       "    </tr>\n",
       "    <tr>\n",
       "      <th>37</th>\n",
       "      <td>392</td>\n",
       "      <td>броситься в вода</td>\n",
       "    </tr>\n",
       "    <tr>\n",
       "      <th>96</th>\n",
       "      <td>346</td>\n",
       "      <td>броситься к дверь</td>\n",
       "    </tr>\n",
       "    <tr>\n",
       "      <th>43</th>\n",
       "      <td>242</td>\n",
       "      <td>броситься на шея</td>\n",
       "    </tr>\n",
       "    <tr>\n",
       "      <th>100</th>\n",
       "      <td>215</td>\n",
       "      <td>броситься к окно</td>\n",
       "    </tr>\n",
       "    <tr>\n",
       "      <th>...</th>\n",
       "      <td>...</td>\n",
       "      <td>...</td>\n",
       "    </tr>\n",
       "    <tr>\n",
       "      <th>104</th>\n",
       "      <td>35</td>\n",
       "      <td>ринуться в атака</td>\n",
       "    </tr>\n",
       "    <tr>\n",
       "      <th>109</th>\n",
       "      <td>24</td>\n",
       "      <td>ринуться к выход</td>\n",
       "    </tr>\n",
       "    <tr>\n",
       "      <th>2</th>\n",
       "      <td>77</td>\n",
       "      <td>рвануться с место</td>\n",
       "    </tr>\n",
       "    <tr>\n",
       "      <th>23</th>\n",
       "      <td>68</td>\n",
       "      <td>рвануться в сторона</td>\n",
       "    </tr>\n",
       "    <tr>\n",
       "      <th>101</th>\n",
       "      <td>45</td>\n",
       "      <td>рвануться к дверь</td>\n",
       "    </tr>\n",
       "  </tbody>\n",
       "</table>\n",
       "<p>76 rows × 2 columns</p>\n",
       "</div>"
      ],
      "text/plain": [
       "     Вхождения             Фрагмент\n",
       "0         1042     броситься в глаз\n",
       "37         392     броситься в вода\n",
       "96         346    броситься к дверь\n",
       "43         242     броситься на шея\n",
       "100        215     броситься к окно\n",
       "..         ...                  ...\n",
       "104         35     ринуться в атака\n",
       "109         24     ринуться к выход\n",
       "2           77    рвануться с место\n",
       "23          68  рвануться в сторона\n",
       "101         45    рвануться к дверь\n",
       "\n",
       "[76 rows x 2 columns]"
      ]
     },
     "execution_count": 19,
     "metadata": {},
     "output_type": "execute_result"
    }
   ],
   "source": [
    "for i in range(len(df_list)):\n",
    "    for j in range(len(df_list[i])):\n",
    "        lemmas = m.lemmatize(df_list[i].iloc[j, 3])\n",
    "        df_list[i].iloc[j, 3] = ''.join(lemmas[:-1])\n",
    "    verb = verbs[i]\n",
    "    for j in range(len(df_list[i])):\n",
    "        if ' ' + verb in df_list[i].iloc[j, 3]:\n",
    "            df_list[i].iloc[j, 3] = verb + ' ' + df_list[i].iloc[j, 3][:-(len(verb)+1)]\n",
    "        elif 'бросаться ' in df_list[i].iloc[j, 3]:\n",
    "            df_list[i].iloc[j, 3] = 'броситься' + df_list[i].iloc[j, 3][len('бросаться'):]\n",
    "        elif ' бросаться' in df_list[i].iloc[j, 3]:\n",
    "            df_list[i].iloc[j, 3] = 'броситься ' + df_list[i].iloc[j, 3][:-(len('бросаться')+1)]\n",
    "    df_list[i]['Вхождения'] = df_list[i][['Вхождения', 'Фрагмент']].groupby(['Фрагмент'])['Вхождения'].transform('sum')\n",
    "    df_list[i] = df_list[i][['Вхождения', 'Фрагмент']].drop_duplicates()\n",
    "    df_list[i] = df_list[i].sort_values(['Вхождения'], ascending = [False])\n",
    "    df_list[i] = df_list[i][df_list[i]['Вхождения'] > 19]\n",
    "\n",
    "df_all = pd.concat(df_list)\n",
    "df_all"
   ]
  },
  {
   "cell_type": "markdown",
   "id": "6123221f",
   "metadata": {},
   "source": [
    "Now that we have a list of 3-grams let's clusterize it. We will start with constructions with the verb _броситься_ (as it is the only one with a significant number of examples):"
   ]
  },
  {
   "cell_type": "code",
   "execution_count": 21,
   "id": "86dffe25",
   "metadata": {},
   "outputs": [],
   "source": [
    "#!pip install scipy\n",
    "import scipy\n",
    "import scipy.cluster.hierarchy as hcluster\n",
    "#!pip install -U scikit-learn\n",
    "from sklearn.cluster import KMeans"
   ]
  },
  {
   "cell_type": "code",
   "execution_count": 23,
   "id": "46775146",
   "metadata": {},
   "outputs": [],
   "source": [
    "import numpy as np\n",
    "import matplotlib.pyplot as plt"
   ]
  },
  {
   "cell_type": "code",
   "execution_count": 177,
   "id": "ec73ef9c",
   "metadata": {},
   "outputs": [
    {
     "name": "stdout",
     "output_type": "stream",
     "text": [
      "[[-2.5803079   1.11180633  3.75898916 ... -0.22919584 -0.32119608\n",
      "  -1.69358012]\n",
      " [ 0.71967363  3.4517166   1.37715328 ...  1.01699364  0.28019309\n",
      "  -1.73047659]\n",
      " [-3.88425612  3.62893194  1.9522934  ... -3.11500251 -1.62291205\n",
      "  -4.84862933]\n",
      " ...\n",
      " [-5.00197959 -3.48804766  3.42454237 ... -0.77923724  4.72199929\n",
      "  -0.70034811]\n",
      " [-2.21961944  5.85423273 -1.343328   ... -0.99042094  1.09995472\n",
      "  -0.0487349 ]\n",
      " [-4.06276739  4.52528471 -1.84849072 ... -1.58486176 -0.05602849\n",
      "  -2.66654786]]\n",
      "(52, 300)\n"
     ]
    }
   ],
   "source": [
    "array_list1 = []\n",
    "for j in range(len(df_list[0])):\n",
    "    v = []\n",
    "    abstr = nlp(df_list[0].iloc[j, 1])\n",
    "    for token in abstr:\n",
    "        if token.pos_ != 'ADP':\n",
    "            n = ''\n",
    "            n = n + token.text + '_' + token.pos_\n",
    "            if n in model:\n",
    "                vector = []\n",
    "                for item in model[n]:\n",
    "                    vector.append(float(item))\n",
    "                v.append(np.array(vector))\n",
    "            else:\n",
    "                print('Слова \"%s\" нет в модели!' % n)\n",
    "    if len(v) == 2:\n",
    "        v1 = [v[0], v[1]]\n",
    "        v1 = np.sum(v1, axis=0)\n",
    "        array_list1.append(v1)\n",
    "            \n",
    "X1 = np.array(array_list1)\n",
    "print(X1)\n",
    "print (X1.shape)"
   ]
  },
  {
   "cell_type": "markdown",
   "id": "c729e700",
   "metadata": {},
   "source": [
    "For some reason adpositions are absent from the model. Should it be an issue? I assumed that it's ok to just remove adpositions altogether since they don't contribute a lot into the meaning (at least we can still understand the meaning of the construction without adposition)."
   ]
  },
  {
   "cell_type": "code",
   "execution_count": 178,
   "id": "f397a6d8",
   "metadata": {},
   "outputs": [
    {
     "data": {
      "image/png": "[encoded data removed]",
      "text/plain": [
       "<Figure size 2000x750 with 1 Axes>"
      ]
     },
     "metadata": {},
     "output_type": "display_data"
    }
   ],
   "source": [
    "Z1 = hcluster.linkage(X1)\n",
    "plt.figure()\n",
    "dn = hcluster.dendrogram(Z1)\n",
    "plt.title(\"броситься + ADP + NOUN\")\n",
    "plt.rcParams['figure.figsize'] = [15, 10]\n",
    "plt.show()"
   ]
  },
  {
   "cell_type": "markdown",
   "id": "b85d647f",
   "metadata": {},
   "source": [
    "There is a file (brositsya+s.png) in the folder in case if the plot is unreadable.\n",
    "\n",
    "Let's compare clusters to the list of the constructions:"
   ]
  },
  {
   "cell_type": "code",
   "execution_count": 161,
   "id": "a6b3a605",
   "metadata": {},
   "outputs": [
    {
     "name": "stdout",
     "output_type": "stream",
     "text": [
      "0  –  броситься в глаз\n",
      "1  –  броситься в вода\n",
      "2  –  броситься к дверь\n",
      "3  –  броситься на шея\n",
      "4  –  броситься к окно\n",
      "5  –  броситься на колено\n",
      "6  –  броситься в объятие\n",
      "7  –  броситься в сторона\n",
      "8  –  броситься к выход\n",
      "9  –  броситься на помощь\n",
      "10  –  броситься в атака\n",
      "11  –  броситься к нога\n",
      "12  –  броситься в голова\n",
      "13  –  броситься на диван\n",
      "14  –  броситься в море\n",
      "15  –  броситься на постель\n",
      "16  –  броситься в нога\n",
      "17  –  броситься в река\n",
      "18  –  броситься с крик\n",
      "19  –  броситься на земля\n",
      "20  –  броситься к телефон\n",
      "21  –  броситься в комната\n",
      "22  –  броситься в лицо\n",
      "23  –  броситься в постель\n",
      "24  –  броситься к отец\n",
      "25  –  броситься на кровать\n",
      "26  –  броситься в погоня\n",
      "27  –  броситься на улица\n",
      "28  –  броситься к мать\n",
      "29  –  броситься в ужас\n",
      "30  –  броситься под поезд\n",
      "31  –  броситься к стол\n",
      "32  –  броситься с визг\n",
      "33  –  броситься в рука\n",
      "34  –  броситься со слеза\n",
      "35  –  броситься в куст\n",
      "36  –  броситься в паника\n",
      "37  –  броситься в кресло\n",
      "38  –  броситься в дом\n",
      "39  –  броситься на пол\n",
      "40  –  броситься к муж\n",
      "41  –  броситься в спальня\n",
      "42  –  броситься в коридор\n",
      "43  –  броситься в отчаяние\n",
      "44  –  броситься в угол\n",
      "45  –  броситься в лес\n",
      "46  –  броситься в кухня\n",
      "47  –  броситься в штык\n",
      "48  –  броситься в испуг\n",
      "49  –  броситься в толпа\n",
      "50  –  броситься в кабинет\n",
      "51  –  броситься из комната\n"
     ]
    }
   ],
   "source": [
    "for j in range(len(df_list[0])):\n",
    "    print(j, ' – ', df_list[0].iloc[j, 1])"
   ]
  },
  {
   "cell_type": "markdown",
   "id": "d7b59833",
   "metadata": {},
   "source": [
    "1. Orange cluster (40, 24, 28): _броситься к муж_, _броситься к отец_ and _броситься к мать_;\n",
    "2. Green cluster (33, 3, 5, 11, 16): _броситься в рука_, _броситься на шея_, _броситься на колено_, _броситься к нога_ and _броситься в нога_;\n",
    "3. Red cluster (2, 4): _броситься к дверь_ and _броситься к окно_;\n",
    "4. Purple cluster (50, 42, 46, 31, 37, 13, 25, 15, 23, 41, 21, 51): _броситься в кабинет_, _броситься в коридор_, _броситься в кухня_, _броситься к стол_, _броситься в кресло_, _броситься на диван_, _броситься на кровать_, _броситься на постель_, _броситься в постель_, _броситься в спальня_, _броситься в комната_ and _броситься из комната_;\n",
    "5. Brown cluster (26, 36, 18, 32, 43, 29, 48): ___броситься в погоня___, _броситься в паника_, _броситься с крик_, _броситься с визг_, _броситься в отчаяние_, _броситься в ужас_ and _броситься в испуг_\n",
    "\n",
    "We can clearly see the similarity within each cluster but the 5-th one is remarcable: while all other constructions are represented with actants, these are all adjunct with the exception of _броситься в погоню_. And even though it seems to be purely coincidental there's still some semantic similarity between _броситься в погоню_ and _броситься с криками_. It is also worth mentioning that the first construction to be separated from the rest is (30) _броситься под поезд_ -- because we didn't consider adpositions while building vectors. And while the direction of the movement (that makes this construction as specific as it is) is marked solely by an adposition _под_, the model imediatly separated it."
   ]
  },
  {
   "cell_type": "markdown",
   "id": "31f72571",
   "metadata": {},
   "source": [
    "Let's take a look at the verb _кинуться_:"
   ]
  },
  {
   "cell_type": "code",
   "execution_count": 205,
   "id": "6f461eb6",
   "metadata": {},
   "outputs": [
    {
     "name": "stdout",
     "output_type": "stream",
     "text": [
      "[[-1.9573645   3.02196527  0.55681276 ... -2.36718795 -3.08499068\n",
      "  -3.31900227]\n",
      " [ 0.76625007  1.0871346  -1.53348351 ... -1.14011118 -3.44123811\n",
      "  -2.19585717]\n",
      " [ 2.64656526  2.84474993 -0.01832736 ...  1.76480821 -1.18188554\n",
      "  -0.20084953]\n",
      " ...\n",
      " [ 1.0694434   2.21258664  2.21907312 ... -0.53898254 -1.03977054\n",
      "   2.75045943]\n",
      " [-0.90528995 -3.83259201 -0.78153086 ...  0.54144317 -1.91024524\n",
      "  -2.83531296]\n",
      " [-2.17458493  3.1362803   2.21989781 ... -0.64996919  1.40687662\n",
      "   5.4562515 ]]\n",
      "(13, 300)\n"
     ]
    }
   ],
   "source": [
    "array_list2 = []\n",
    "for j in range(len(df_list[1])):\n",
    "    v = []\n",
    "    abstr = nlp(df_list[1].iloc[j, 1])\n",
    "    for token in abstr:\n",
    "        if token.pos_ != 'ADP':\n",
    "            n = ''\n",
    "            n = n + token.text + '_' + token.pos_\n",
    "            if n in model:\n",
    "                vector = []\n",
    "                for item in model[n]:\n",
    "                    vector.append(float(item))\n",
    "                v.append(np.array(vector))\n",
    "            else:\n",
    "                print('Слова \"%s\" нет в модели!' % n)\n",
    "    if len(v) == 2:\n",
    "        v1 = [v[0], v[1]]\n",
    "        v1 = np.sum(v1, axis=0)\n",
    "        array_list2.append(v1)\n",
    "            \n",
    "X2 = np.array(array_list2)\n",
    "print(X2)\n",
    "print (X2.shape)"
   ]
  },
  {
   "cell_type": "code",
   "execution_count": 207,
   "id": "de24c325",
   "metadata": {},
   "outputs": [
    {
     "data": {
      "image/png": "[encoded data removed]",
      "text/plain": [
       "<Figure size 700x500 with 1 Axes>"
      ]
     },
     "metadata": {},
     "output_type": "display_data"
    }
   ],
   "source": [
    "Z2 = hcluster.linkage(X2)\n",
    "plt.figure()\n",
    "dn = hcluster.dendrogram(Z2)\n",
    "plt.title(\"кинуться + ADP + NOUN\")\n",
    "plt.rcParams['figure.figsize'] = [7, 5]\n",
    "plt.show()"
   ]
  },
  {
   "cell_type": "markdown",
   "id": "30836ae8",
   "metadata": {},
   "source": [
    "There is a file (kinutsya+s.png) in the folder in case if the plot is unreadable.\n",
    "\n",
    "Let's compare clusters to the list of the constructions:"
   ]
  },
  {
   "cell_type": "code",
   "execution_count": 181,
   "id": "ee9faab8",
   "metadata": {},
   "outputs": [
    {
     "name": "stdout",
     "output_type": "stream",
     "text": [
      "0  –  кинуться к дверь\n",
      "1  –  кинуться к окно\n",
      "2  –  кинуться в вода\n",
      "3  –  кинуться в сторона\n",
      "4  –  кинуться на шея\n",
      "5  –  кинуться в глаз\n",
      "6  –  кинуться к выход\n",
      "7  –  кинуться к телефон\n",
      "8  –  кинуться в объятие\n",
      "9  –  кинуться в дом\n",
      "10  –  кинуться на помощь\n",
      "11  –  кинуться на улица\n",
      "12  –  кинуться в атака\n"
     ]
    }
   ],
   "source": [
    "for j in range(len(df_list[1])):\n",
    "    print(j, ' – ', df_list[1].iloc[j, 1])"
   ]
  },
  {
   "cell_type": "markdown",
   "id": "45ff0ea2",
   "metadata": {},
   "source": [
    "There are not enough examples for this verb to see a full picture but the plot provides some information nevertheless. _кинуться в атаку_ is separated -- and I really appreciate that it is far from _кинуться в сторона_ which seems to be somewhat close pragmatically but in terms of semantics the two constructions are different. The green cluster gathers three ~metaphoric constructions -- which is debatable since _кинуться в глаза_ is relatively more metaphoric than others."
   ]
  },
  {
   "cell_type": "markdown",
   "id": "351e430e",
   "metadata": {},
   "source": [
    "And finally let's try clusterizing all constructions:"
   ]
  },
  {
   "cell_type": "code",
   "execution_count": 179,
   "id": "d9a85933",
   "metadata": {},
   "outputs": [
    {
     "name": "stdout",
     "output_type": "stream",
     "text": [
      "[[-2.5803079   1.11180633  3.75898916 ... -0.22919584 -0.32119608\n",
      "  -1.69358012]\n",
      " [ 0.71967363  3.4517166   1.37715328 ...  1.01699364  0.28019309\n",
      "  -1.73047659]\n",
      " [-3.88425612  3.62893194  1.9522934  ... -3.11500251 -1.62291205\n",
      "  -4.84862933]\n",
      " ...\n",
      " [ 2.73556928  6.67289492 -0.56830966 ... -0.56343269  3.16163185\n",
      "   1.52795631]\n",
      " [ 4.33515386  5.72766683  3.62103105 ... -1.17985511 -1.2889007\n",
      "  -1.26044625]\n",
      " [-1.30271645  4.43875691  0.26610994 ... -2.31844616 -2.69111773\n",
      "  -4.44083208]]\n",
      "(75, 300)\n"
     ]
    }
   ],
   "source": [
    "array_list = []\n",
    "for j in range(len(df_all)):\n",
    "    v = []\n",
    "    #name = ''\n",
    "    abstr = nlp(df_all.iloc[j, 1])\n",
    "    for token in abstr:\n",
    "        if token.pos_ != 'ADP':\n",
    "            n = ''\n",
    "            n = n + token.text + '_' + token.pos_\n",
    "            #name = name + '_' + token.text\n",
    "            if n in model:\n",
    "                #print(n, '\\n', model[n][:5])\n",
    "                vector = []\n",
    "                for item in model[n]:\n",
    "                    vector.append(float(item))\n",
    "                v.append(np.array(vector))\n",
    "            else:\n",
    "                print('Слова \"%s\" нет в модели!' % n)\n",
    "    if len(v) == 2:\n",
    "        v1 = [v[0], v[1]]\n",
    "        v1 = np.sum(v1, axis=0)\n",
    "        array_list.append(v1)\n",
    "#print(name[1:], '\\n', array_list[:5])\n",
    "            \n",
    "X = np.array(array_list)\n",
    "print(X)\n",
    "print (X.shape)"
   ]
  },
  {
   "cell_type": "code",
   "execution_count": 180,
   "id": "254c6b15",
   "metadata": {},
   "outputs": [
    {
     "data": {
      "image/png": "[encoded data removed]",
      "text/plain": [
       "<Figure size 1500x1000 with 1 Axes>"
      ]
     },
     "metadata": {},
     "output_type": "display_data"
    }
   ],
   "source": [
    "Z = hcluster.linkage(X)\n",
    "plt.figure()\n",
    "dn = hcluster.dendrogram(Z)\n",
    "plt.title(\"броситься/кинуться/метнуться/ринуться/рвануться + ADP + NOUN\")\n",
    "plt.rcParams['figure.figsize'] = [15, 10]\n",
    "plt.show()"
   ]
  },
  {
   "cell_type": "markdown",
   "id": "d22898f3",
   "metadata": {},
   "source": [
    "There is a file (brositsya-kinutsya-metnutsya-rinutsya-rvanutsya+s.png) in the folder in case if the plot is unreadable.\n",
    "\n",
    "Let's compare clusters to the list of the constructions:"
   ]
  },
  {
   "cell_type": "code",
   "execution_count": 29,
   "id": "8ea73154",
   "metadata": {},
   "outputs": [
    {
     "name": "stdout",
     "output_type": "stream",
     "text": [
      "0 броситься в глаз\n",
      "1 броситься в вода\n",
      "2 броситься к дверь\n",
      "3 броситься на шея\n",
      "4 броситься к окно\n",
      "5 броситься на колено\n",
      "6 броситься в объятие\n",
      "7 броситься в сторона\n",
      "8 броситься к выход\n",
      "9 броситься на помощь\n",
      "10 броситься в атака\n",
      "11 броситься к нога\n",
      "12 броситься в голова\n",
      "13 броситься на диван\n",
      "14 броситься в море\n",
      "15 броситься на постель\n",
      "16 броситься в нога\n",
      "17 броситься в река\n",
      "18 броситься с крик\n",
      "19 броситься на земля\n",
      "20 броситься к телефон\n",
      "21 броситься в комната\n",
      "22 броситься в лицо\n",
      "23 броситься в постель\n",
      "24 броситься к отец\n",
      "25 броситься на кровать\n",
      "26 броситься в погоня\n",
      "27 броситься на улица\n",
      "28 броситься к мать\n",
      "29 броситься в ужас\n",
      "30 броситься под поезд\n",
      "31 броситься к стол\n",
      "32 броситься с визг\n",
      "33 броситься в рука\n",
      "34 броситься со слеза\n",
      "35 броситься в куст\n",
      "36 броситься в паника\n",
      "37 броситься в кресло\n",
      "38 броситься в дом\n",
      "39 броситься на пол\n",
      "40 броситься к муж\n",
      "41 броситься в спальня\n",
      "42 броситься в коридор\n",
      "43 броситься в отчаяние\n",
      "44 броситься в угол\n",
      "45 броситься в лес\n",
      "46 броситься в кухня\n",
      "47 броситься в штык\n",
      "48 броситься в испуг\n",
      "49 броситься в толпа\n",
      "50 броситься в кабинет\n",
      "51 броситься из комната\n",
      "52 кинуться к дверь\n",
      "53 кинуться к окно\n",
      "54 кинуться в вода\n",
      "55 кинуться в сторона\n",
      "56 кинуться на шея\n",
      "57 кинуться в глаз\n",
      "58 кинуться к выход\n",
      "59 кинуться к телефон\n",
      "60 кинуться в объятие\n",
      "61 кинуться в дом\n",
      "62 кинуться на помощь\n",
      "63 кинуться на улица\n",
      "64 кинуться в атака\n",
      "65 метнуться в сторона\n",
      "66 метнуться к дверь\n",
      "67 метнуться\n",
      "68 метнуться к окно\n",
      "69 ринуться в бой\n",
      "70 ринуться к дверь\n",
      "71 ринуться в атака\n",
      "72 ринуться к выход\n",
      "73 рвануться с место\n",
      "74 рвануться в сторона\n",
      "75 рвануться к дверь\n"
     ]
    }
   ],
   "source": [
    "for j in range(len(df_all)):\n",
    "    print(j, df_all.iloc[j, 1])"
   ]
  },
  {
   "cell_type": "markdown",
   "id": "e0ff1bfa",
   "metadata": {},
   "source": [
    "1. Orange cluster (27, 63): _броситься на улица_ and _кинуться на улица_\n",
    "2. Green cluster (10, 64, 70): _броситься в атака_, _кинуться в атака_ and ___ринуться к дверь___\n",
    "3. Red cluster (1, 54): _броситься в вода_ and _кинуться в вода_\n",
    "4. Purple cluster (9, 62): _броситься на помощь_ and _кинуться на помощь_\n",
    "5. Brown cluster (8, 58, 71): _броситься к выход_, _кинуться к выход_ and ___ринуться в атака___\n",
    "6. Pink cluster (7, 65, 55, 73): _броситься в сторона_, _метнуться в сторона_, _кинуться в сторона_ and ___рвануться с место___"
   ]
  },
  {
   "cell_type": "markdown",
   "id": "5abd1074",
   "metadata": {},
   "source": [
    "In this case clusters barely show anything unexpected: usually cluster has variations of the same construction with different verb. There are three point though:\n",
    "\n",
    "1) _ринуться к двери_ is clusterized with _verb + в атаку_\n",
    "2) _ринуться в атака_ is clusterized with _verb + к выходу_ (item 1 vice versa)\n",
    "3) _рвануться с места_ is clusterized with _verb + в сторону_ -- which brings up the question whether _рвануться_ is as close to the other verbs as it seems to be. "
   ]
  },
  {
   "cell_type": "code",
   "execution_count": 192,
   "id": "07d63278",
   "metadata": {},
   "outputs": [
    {
     "name": "stdout",
     "output_type": "stream",
     "text": [
      "рвануться_VERB\n"
     ]
    }
   ],
   "source": [
    "print(model.doesnt_match('броситься_VERB кинуться_VERB метнуться_VERB ринуться_VERB рвануться_VERB'.split()))"
   ]
  },
  {
   "cell_type": "markdown",
   "id": "ce223343",
   "metadata": {},
   "source": [
    "While it is barely a surprise that _рвануться_ stands out as does _метнуться_ (in this specific study it might be due to the small representation of both verbs), it is unexpected that among _броситься_, _кинуться_ and _ринуться_ the \"extra\" one is _кинуться_:"
   ]
  },
  {
   "cell_type": "code",
   "execution_count": 210,
   "id": "fbc685f0",
   "metadata": {},
   "outputs": [
    {
     "name": "stdout",
     "output_type": "stream",
     "text": [
      "кинуться_VERB\n"
     ]
    }
   ],
   "source": [
    "print(model.doesnt_match('броситься_VERB кинуться_VERB ринуться_VERB'.split()))"
   ]
  },
  {
   "cell_type": "code",
   "execution_count": 208,
   "id": "61e50c5d",
   "metadata": {},
   "outputs": [
    {
     "name": "stdout",
     "output_type": "stream",
     "text": [
      "0.7367136\n"
     ]
    }
   ],
   "source": [
    "print(model.similarity('броситься_VERB', 'кинуться_VERB'))"
   ]
  },
  {
   "cell_type": "code",
   "execution_count": 211,
   "id": "a1a2e686",
   "metadata": {},
   "outputs": [
    {
     "name": "stdout",
     "output_type": "stream",
     "text": [
      "0.7486977\n"
     ]
    }
   ],
   "source": [
    "print(model.similarity('кинуться_VERB', 'ринуться_VERB'))"
   ]
  },
  {
   "cell_type": "code",
   "execution_count": 191,
   "id": "bb5cfde9",
   "metadata": {},
   "outputs": [
    {
     "name": "stdout",
     "output_type": "stream",
     "text": [
      "0.796581\n"
     ]
    }
   ],
   "source": [
    "print(model.similarity('броситься_VERB', 'ринуться_VERB'))"
   ]
  },
  {
   "cell_type": "code",
   "execution_count": 209,
   "id": "0e34f29f",
   "metadata": {},
   "outputs": [
    {
     "name": "stdout",
     "output_type": "stream",
     "text": [
      "0.66585916\n"
     ]
    }
   ],
   "source": [
    "print(model.similarity('броситься_VERB', 'метнуться_VERB'))"
   ]
  },
  {
   "cell_type": "code",
   "execution_count": 190,
   "id": "8258401a",
   "metadata": {},
   "outputs": [
    {
     "name": "stdout",
     "output_type": "stream",
     "text": [
      "0.610919\n"
     ]
    }
   ],
   "source": [
    "print(model.similarity('кинуться_VERB', 'рвануться_VERB'))"
   ]
  },
  {
   "cell_type": "markdown",
   "id": "0d4c5f7e",
   "metadata": {},
   "source": [
    "As one can see this study has two major parts -- the one with a large database and the other one with clusters of a relatively small sets of constructions. The idea of the study was to apply clusterization to the database but unfortunately I was out of time by the time I figured out how clusterization works.\n",
    "\n",
    "The other idea was to study _verb + verb_ constructions. These certain verbs appear to become auxiliaries iin some contexts and I was wondering whether or not the 'start' meaning of _броситься_ and others could be shown via python tools. This model however seems to overlook it:"
   ]
  },
  {
   "cell_type": "code",
   "execution_count": 194,
   "id": "e1db1601",
   "metadata": {},
   "outputs": [
    {
     "name": "stdout",
     "output_type": "stream",
     "text": [
      "кидаться_VERB\n"
     ]
    }
   ],
   "source": [
    "print(model.most_similar(positive=['броситься_VERB'], negative=['бежать_VERB'])[0][0])"
   ]
  }
 ],
 "metadata": {
  "kernelspec": {
   "display_name": "Python 3 (ipykernel)",
   "language": "python",
   "name": "python3"
  },
  "language_info": {
   "codemirror_mode": {
    "name": "ipython",
    "version": 3
   },
   "file_extension": ".py",
   "mimetype": "text/x-python",
   "name": "python",
   "nbconvert_exporter": "python",
   "pygments_lexer": "ipython3",
   "version": "3.8.10"
  }
 },
 "nbformat": 4,
 "nbformat_minor": 5
}
